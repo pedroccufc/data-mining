{
 "cells": [
  {
   "cell_type": "code",
   "execution_count": 89,
   "metadata": {},
   "outputs": [],
   "source": [
    "# Importando as bibliotecas\n",
    "\n",
    "import pandas as pd\n",
    "import matplotlib.pyplot as plt\n",
    "from sklearn.impute import SimpleImputer\n",
    "from sklearn.cluster import KMeans"
   ]
  },
  {
   "cell_type": "code",
   "execution_count": 325,
   "metadata": {},
   "outputs": [
    {
     "name": "stdout",
     "output_type": "stream",
     "text": [
      "erro Datasets/DadosBO_2019_8(FEMINICÍDIO).xls\n",
      "erro Datasets/DadosBO_2019_9(FEMINICÍDIO).xls\n",
      "erro Datasets/DadosBO_2019_10(FEMINICÍDIO).xls\n",
      "erro Datasets/DadosBO_2019_11(FEMINICÍDIO).xls\n",
      "erro Datasets/DadosBO_2019_12(FEMINICÍDIO).xls\n"
     ]
    }
   ],
   "source": [
    "listaData = []\n",
    "\n",
    "for ano in range(2016, 2019+1):\n",
    "    for mes in range(1,12+1):\n",
    "        filename = ('Datasets/DadosBO_' + str(ano)+\n",
    "                    '_' + str(mes) + '(FEMINICÍDIO).xls')\n",
    "        try:\n",
    "            datames = pd.read_csv(filename,sep='\\t',encoding='utf-16-le')\n",
    "            listaData.append(datames)\n",
    "        except:\n",
    "            print('erro ' + filename)\n",
    "\n",
    "data = pd.concat(listaData, sort=True)\n"
   ]
  },
  {
   "cell_type": "code",
   "execution_count": 95,
   "metadata": {},
   "outputs": [
    {
     "data": {
      "text/html": [
       "<div>\n",
       "<style scoped>\n",
       "    .dataframe tbody tr th:only-of-type {\n",
       "        vertical-align: middle;\n",
       "    }\n",
       "\n",
       "    .dataframe tbody tr th {\n",
       "        vertical-align: top;\n",
       "    }\n",
       "\n",
       "    .dataframe thead th {\n",
       "        text-align: right;\n",
       "    }\n",
       "</style>\n",
       "<table border=\"1\" class=\"dataframe\">\n",
       "  <thead>\n",
       "    <tr style=\"text-align: right;\">\n",
       "      <th></th>\n",
       "      <th>ANO_BO</th>\n",
       "      <th>NUM_BO</th>\n",
       "      <th>NUMERO_BOLETIM</th>\n",
       "      <th>BO_INICIADO</th>\n",
       "      <th>BO_EMITIDO</th>\n",
       "      <th>DATAOCORRENCIA</th>\n",
       "      <th>PERIDOOCORRENCIA</th>\n",
       "      <th>DATACOMUNICACAO</th>\n",
       "      <th>DATAELABORACAO</th>\n",
       "      <th>BO_AUTORIA</th>\n",
       "      <th>...</th>\n",
       "      <th>PLACA_VEICULO</th>\n",
       "      <th>UF_VEICULO</th>\n",
       "      <th>CIDADE_VEICULO</th>\n",
       "      <th>DESCR_COR_VEICULO</th>\n",
       "      <th>DESCR_MARCA_VEICULO</th>\n",
       "      <th>ANO_FABRICACAO</th>\n",
       "      <th>ANO_MODELO</th>\n",
       "      <th>DESCR_TIPO_VEICULO</th>\n",
       "      <th>QUANT_CELULAR</th>\n",
       "      <th>MARCA_CELULAR</th>\n",
       "    </tr>\n",
       "  </thead>\n",
       "  <tbody>\n",
       "    <tr>\n",
       "      <th>0</th>\n",
       "      <td>2018</td>\n",
       "      <td>141</td>\n",
       "      <td>141/2018</td>\n",
       "      <td>03/01/2018 17:22:43</td>\n",
       "      <td>03/01/2018 19:14:25</td>\n",
       "      <td>03/01/2018</td>\n",
       "      <td>A TARDE</td>\n",
       "      <td>03/01/2018</td>\n",
       "      <td>03/01/2018 17:22:43</td>\n",
       "      <td>Conhecida</td>\n",
       "      <td>...</td>\n",
       "      <td>NaN</td>\n",
       "      <td>NaN</td>\n",
       "      <td>NaN</td>\n",
       "      <td>NaN</td>\n",
       "      <td>NaN</td>\n",
       "      <td>0</td>\n",
       "      <td>0</td>\n",
       "      <td>NaN</td>\n",
       "      <td>NaN</td>\n",
       "      <td>NaN</td>\n",
       "    </tr>\n",
       "    <tr>\n",
       "      <th>1</th>\n",
       "      <td>2018</td>\n",
       "      <td>141</td>\n",
       "      <td>141/2018</td>\n",
       "      <td>03/01/2018 17:22:43</td>\n",
       "      <td>03/01/2018 19:14:25</td>\n",
       "      <td>03/01/2018</td>\n",
       "      <td>A TARDE</td>\n",
       "      <td>03/01/2018</td>\n",
       "      <td>03/01/2018 17:22:43</td>\n",
       "      <td>Conhecida</td>\n",
       "      <td>...</td>\n",
       "      <td>NaN</td>\n",
       "      <td>NaN</td>\n",
       "      <td>NaN</td>\n",
       "      <td>NaN</td>\n",
       "      <td>NaN</td>\n",
       "      <td>0</td>\n",
       "      <td>0</td>\n",
       "      <td>NaN</td>\n",
       "      <td>NaN</td>\n",
       "      <td>NaN</td>\n",
       "    </tr>\n",
       "    <tr>\n",
       "      <th>2</th>\n",
       "      <td>2018</td>\n",
       "      <td>141</td>\n",
       "      <td>141/2018</td>\n",
       "      <td>03/01/2018 17:22:43</td>\n",
       "      <td>03/01/2018 19:14:25</td>\n",
       "      <td>03/01/2018</td>\n",
       "      <td>A TARDE</td>\n",
       "      <td>03/01/2018</td>\n",
       "      <td>03/01/2018 17:22:43</td>\n",
       "      <td>Conhecida</td>\n",
       "      <td>...</td>\n",
       "      <td>NaN</td>\n",
       "      <td>NaN</td>\n",
       "      <td>NaN</td>\n",
       "      <td>NaN</td>\n",
       "      <td>NaN</td>\n",
       "      <td>0</td>\n",
       "      <td>0</td>\n",
       "      <td>NaN</td>\n",
       "      <td>NaN</td>\n",
       "      <td>NaN</td>\n",
       "    </tr>\n",
       "    <tr>\n",
       "      <th>3</th>\n",
       "      <td>2018</td>\n",
       "      <td>150</td>\n",
       "      <td>150/2018</td>\n",
       "      <td>07/01/2018 02:28:38</td>\n",
       "      <td>07/01/2018 05:29:57</td>\n",
       "      <td>07/01/2018</td>\n",
       "      <td>DE MADRUGADA</td>\n",
       "      <td>07/01/2018</td>\n",
       "      <td>07/01/2018 02:28:38</td>\n",
       "      <td>Conhecida</td>\n",
       "      <td>...</td>\n",
       "      <td>NaN</td>\n",
       "      <td>NaN</td>\n",
       "      <td>NaN</td>\n",
       "      <td>NaN</td>\n",
       "      <td>NaN</td>\n",
       "      <td>0</td>\n",
       "      <td>0</td>\n",
       "      <td>NaN</td>\n",
       "      <td>NaN</td>\n",
       "      <td>NaN</td>\n",
       "    </tr>\n",
       "    <tr>\n",
       "      <th>4</th>\n",
       "      <td>2018</td>\n",
       "      <td>150</td>\n",
       "      <td>150/2018</td>\n",
       "      <td>07/01/2018 02:28:38</td>\n",
       "      <td>07/01/2018 05:29:57</td>\n",
       "      <td>07/01/2018</td>\n",
       "      <td>DE MADRUGADA</td>\n",
       "      <td>07/01/2018</td>\n",
       "      <td>07/01/2018 02:28:38</td>\n",
       "      <td>Conhecida</td>\n",
       "      <td>...</td>\n",
       "      <td>NaN</td>\n",
       "      <td>NaN</td>\n",
       "      <td>NaN</td>\n",
       "      <td>NaN</td>\n",
       "      <td>NaN</td>\n",
       "      <td>0</td>\n",
       "      <td>0</td>\n",
       "      <td>NaN</td>\n",
       "      <td>NaN</td>\n",
       "      <td>NaN</td>\n",
       "    </tr>\n",
       "  </tbody>\n",
       "</table>\n",
       "<p>5 rows × 56 columns</p>\n",
       "</div>"
      ],
      "text/plain": [
       "   ANO_BO  NUM_BO NUMERO_BOLETIM          BO_INICIADO           BO_EMITIDO  \\\n",
       "0    2018     141       141/2018  03/01/2018 17:22:43  03/01/2018 19:14:25   \n",
       "1    2018     141       141/2018  03/01/2018 17:22:43  03/01/2018 19:14:25   \n",
       "2    2018     141       141/2018  03/01/2018 17:22:43  03/01/2018 19:14:25   \n",
       "3    2018     150       150/2018  07/01/2018 02:28:38  07/01/2018 05:29:57   \n",
       "4    2018     150       150/2018  07/01/2018 02:28:38  07/01/2018 05:29:57   \n",
       "\n",
       "  DATAOCORRENCIA PERIDOOCORRENCIA DATACOMUNICACAO       DATAELABORACAO  \\\n",
       "0     03/01/2018          A TARDE      03/01/2018  03/01/2018 17:22:43   \n",
       "1     03/01/2018          A TARDE      03/01/2018  03/01/2018 17:22:43   \n",
       "2     03/01/2018          A TARDE      03/01/2018  03/01/2018 17:22:43   \n",
       "3     07/01/2018     DE MADRUGADA      07/01/2018  07/01/2018 02:28:38   \n",
       "4     07/01/2018     DE MADRUGADA      07/01/2018  07/01/2018 02:28:38   \n",
       "\n",
       "  BO_AUTORIA  ... PLACA_VEICULO UF_VEICULO CIDADE_VEICULO  DESCR_COR_VEICULO  \\\n",
       "0  Conhecida  ...           NaN        NaN            NaN                NaN   \n",
       "1  Conhecida  ...           NaN        NaN            NaN                NaN   \n",
       "2  Conhecida  ...           NaN        NaN            NaN                NaN   \n",
       "3  Conhecida  ...           NaN        NaN            NaN                NaN   \n",
       "4  Conhecida  ...           NaN        NaN            NaN                NaN   \n",
       "\n",
       "  DESCR_MARCA_VEICULO ANO_FABRICACAO ANO_MODELO  DESCR_TIPO_VEICULO  \\\n",
       "0                 NaN              0          0                 NaN   \n",
       "1                 NaN              0          0                 NaN   \n",
       "2                 NaN              0          0                 NaN   \n",
       "3                 NaN              0          0                 NaN   \n",
       "4                 NaN              0          0                 NaN   \n",
       "\n",
       "   QUANT_CELULAR MARCA_CELULAR  \n",
       "0            NaN           NaN  \n",
       "1            NaN           NaN  \n",
       "2            NaN           NaN  \n",
       "3            NaN           NaN  \n",
       "4            NaN           NaN  \n",
       "\n",
       "[5 rows x 56 columns]"
      ]
     },
     "execution_count": 95,
     "metadata": {},
     "output_type": "execute_result"
    }
   ],
   "source": [
    "# Mostrando as 5 primeiras instâncias\n",
    "\n",
    "data.head()"
   ]
  },
  {
   "cell_type": "code",
   "execution_count": 327,
   "metadata": {},
   "outputs": [
    {
     "data": {
      "text/plain": [
       "(929, 56)"
      ]
     },
     "execution_count": 327,
     "metadata": {},
     "output_type": "execute_result"
    }
   ],
   "source": [
    "# Verificando a quantidade de instâncias por atributos\n",
    "\n",
    "data.shape"
   ]
  },
  {
   "cell_type": "code",
   "execution_count": 328,
   "metadata": {},
   "outputs": [
    {
     "data": {
      "text/plain": [
       "ANO_BO                        0\n",
       "ANO_FABRICACAO                0\n",
       "ANO_MODELO                    0\n",
       "BAIRRO                       33\n",
       "BO_AUTORIA                    0\n",
       "BO_EMITIDO                    0\n",
       "BO_INICIADO                   0\n",
       "CIDADE                        5\n",
       "CIDADE_VEICULO              911\n",
       "CORCUTIS                    104\n",
       "DATACOMUNICACAO               0\n",
       "DATAELABORACAO                0\n",
       "DATANASCIMENTO              121\n",
       "DATAOCORRENCIA                0\n",
       "DELEGACIA_CIRCUNSCRICAO       0\n",
       "DELEGACIA_NOME                0\n",
       "DESCRICAOLOCAL                0\n",
       "DESCR_COR_VEICULO           911\n",
       "DESCR_MARCA_VEICULO         911\n",
       "DESCR_TIPO_VEICULO          911\n",
       "DESDOBRAMENTO               258\n",
       "ESPECIE                       0\n",
       "ESTADOCIVIL                 163\n",
       "EXAME                       110\n",
       "FLAGRANTE                     0\n",
       "GRAUINSTRUCAO               422\n",
       "IDADE                       118\n",
       "LATITUDE                    648\n",
       "LOGRADOURO                  648\n",
       "LONGITUDE                   648\n",
       "MARCA_CELULAR               929\n",
       "NACIONALIDADE               165\n",
       "NATURALIDADE                125\n",
       "NATUREZAVINCULADA           104\n",
       "NOMEPESSOA                  104\n",
       "NUMERO                        5\n",
       "NUMERO_BOLETIM                0\n",
       "NUMERO_BOLETIM_PRINCIPAL    793\n",
       "NUM_BO                        0\n",
       "PARENTESCO                  929\n",
       "PERIDOOCORRENCIA              0\n",
       "PLACA_VEICULO               911\n",
       "PROFISSAO                   383\n",
       "QUANT_CELULAR               929\n",
       "RELACIONAMENTO              535\n",
       "RG                          143\n",
       "RG_UF                       141\n",
       "RUBRICA                       0\n",
       "SEXO                        110\n",
       "SOLUCAO                       0\n",
       "STATUS                        0\n",
       "TIPOPESSOA                  104\n",
       "TIPOVINCULO                 104\n",
       "UF                            5\n",
       "UF_VEICULO                  911\n",
       "VITIMAFATAL                 104\n",
       "dtype: int64"
      ]
     },
     "execution_count": 328,
     "metadata": {},
     "output_type": "execute_result"
    }
   ],
   "source": [
    "# Verificando dados nulos\n",
    "\n",
    "data.isna().sum()"
   ]
  },
  {
   "cell_type": "code",
   "execution_count": 329,
   "metadata": {},
   "outputs": [],
   "source": [
    "# Removendo colunas que apresentaram muitos dados faltantes, sendo irrelevante sua utilização, podendo até atrapalhar\n",
    "# em uma possível predição.\n",
    "\n",
    "data.drop(['NUMERO_BOLETIM_PRINCIPAL', 'LOGRADOURO', 'LATITUDE', 'LONGITUDE', 'PARENTESCO', 'PLACA_VEICULO', \n",
    "              'UF_VEICULO', 'CIDADE_VEICULO', 'DESCR_COR_VEICULO', 'DESCR_MARCA_VEICULO', 'QUANT_CELULAR', \n",
    "              'MARCA_CELULAR', 'RELACIONAMENTO', 'GRAUINSTRUCAO', 'DESCR_TIPO_VEICULO'], axis=1, inplace=True)"
   ]
  },
  {
   "cell_type": "code",
   "execution_count": 330,
   "metadata": {},
   "outputs": [
    {
     "name": "stdout",
     "output_type": "stream",
     "text": [
      "<class 'pandas.core.frame.DataFrame'>\n",
      "Int64Index: 929 entries, 0 to 15\n",
      "Data columns (total 41 columns):\n",
      "ANO_BO                     929 non-null int64\n",
      "ANO_FABRICACAO             929 non-null int64\n",
      "ANO_MODELO                 929 non-null int64\n",
      "BAIRRO                     896 non-null object\n",
      "BO_AUTORIA                 929 non-null object\n",
      "BO_EMITIDO                 929 non-null object\n",
      "BO_INICIADO                929 non-null object\n",
      "CIDADE                     924 non-null object\n",
      "CORCUTIS                   825 non-null object\n",
      "DATACOMUNICACAO            929 non-null object\n",
      "DATAELABORACAO             929 non-null object\n",
      "DATANASCIMENTO             808 non-null object\n",
      "DATAOCORRENCIA             929 non-null object\n",
      "DELEGACIA_CIRCUNSCRICAO    929 non-null object\n",
      "DELEGACIA_NOME             929 non-null object\n",
      "DESCRICAOLOCAL             929 non-null object\n",
      "DESDOBRAMENTO              671 non-null object\n",
      "ESPECIE                    929 non-null object\n",
      "ESTADOCIVIL                766 non-null object\n",
      "EXAME                      819 non-null object\n",
      "FLAGRANTE                  929 non-null object\n",
      "IDADE                      811 non-null float64\n",
      "NACIONALIDADE              764 non-null object\n",
      "NATURALIDADE               804 non-null object\n",
      "NATUREZAVINCULADA          825 non-null object\n",
      "NOMEPESSOA                 825 non-null object\n",
      "NUMERO                     924 non-null float64\n",
      "NUMERO_BOLETIM             929 non-null object\n",
      "NUM_BO                     929 non-null int64\n",
      "PERIDOOCORRENCIA           929 non-null object\n",
      "PROFISSAO                  546 non-null object\n",
      "RG                         786 non-null float64\n",
      "RG_UF                      788 non-null object\n",
      "RUBRICA                    929 non-null object\n",
      "SEXO                       819 non-null object\n",
      "SOLUCAO                    929 non-null object\n",
      "STATUS                     929 non-null object\n",
      "TIPOPESSOA                 825 non-null object\n",
      "TIPOVINCULO                825 non-null object\n",
      "UF                         924 non-null object\n",
      "VITIMAFATAL                825 non-null object\n",
      "dtypes: float64(3), int64(4), object(34)\n",
      "memory usage: 304.8+ KB\n"
     ]
    }
   ],
   "source": [
    "# Verificando o tipo de cada atributo\n",
    "\n",
    "data.info()"
   ]
  },
  {
   "cell_type": "code",
   "execution_count": 331,
   "metadata": {},
   "outputs": [],
   "source": [
    "# Separando dados numéricos de dados categóricos\n",
    "\n",
    "numerics = ['ANO_BO', 'NUM_BO', 'NUMERO', 'RG', 'IDADE', 'ANO_FABRICACAO', 'ANO_MODELO']\n",
    "categorics = ['NUMERO_BOLETIM', 'BO_INICIADO', 'BO_EMITIDO', 'DATAOCORRENCIA', 'PERIDOOCORRENCIA', \n",
    "              'DATACOMUNICACAO', 'DATAELABORACAO', 'BO_AUTORIA', 'FLAGRANTE', 'BAIRRO', 'CIDADE', 'UF', \n",
    "              'DESCRICAOLOCAL', 'EXAME', 'SOLUCAO', 'DELEGACIA_NOME', 'DELEGACIA_CIRCUNSCRICAO', 'ESPECIE', \n",
    "              'RUBRICA', 'DESDOBRAMENTO', 'STATUS', 'NOMEPESSOA', 'TIPOPESSOA', 'VITIMAFATAL', 'RG_UF', \n",
    "              'NATURALIDADE', 'NACIONALIDADE', 'SEXO', 'DATANASCIMENTO', 'ESTADOCIVIL', 'PROFISSAO', \n",
    "              'CORCUTIS', 'NATUREZAVINCULADA', 'TIPOVINCULO']"
   ]
  },
  {
   "cell_type": "code",
   "execution_count": 332,
   "metadata": {},
   "outputs": [],
   "source": [
    "# Substituindo valores nulos pela média pra valores numéricos e pela moda para valores categóricos\n",
    "\n",
    "imp_numerics = SimpleImputer(strategy='mean')\n",
    "imp_categorics = SimpleImputer(strategy='most_frequent')"
   ]
  },
  {
   "cell_type": "code",
   "execution_count": 333,
   "metadata": {},
   "outputs": [],
   "source": [
    "# Aplicando as transformações nos dados nulos\n",
    "\n",
    "data[numerics] = imp_numerics.fit_transform(data[numerics])\n",
    "data[categorics] = imp_categorics.fit_transform(data[categorics])"
   ]
  },
  {
   "cell_type": "code",
   "execution_count": 334,
   "metadata": {},
   "outputs": [
    {
     "data": {
      "text/plain": [
       "ANO_BO                     0\n",
       "ANO_FABRICACAO             0\n",
       "ANO_MODELO                 0\n",
       "BAIRRO                     0\n",
       "BO_AUTORIA                 0\n",
       "BO_EMITIDO                 0\n",
       "BO_INICIADO                0\n",
       "CIDADE                     0\n",
       "CORCUTIS                   0\n",
       "DATACOMUNICACAO            0\n",
       "DATAELABORACAO             0\n",
       "DATANASCIMENTO             0\n",
       "DATAOCORRENCIA             0\n",
       "DELEGACIA_CIRCUNSCRICAO    0\n",
       "DELEGACIA_NOME             0\n",
       "DESCRICAOLOCAL             0\n",
       "DESDOBRAMENTO              0\n",
       "ESPECIE                    0\n",
       "ESTADOCIVIL                0\n",
       "EXAME                      0\n",
       "FLAGRANTE                  0\n",
       "IDADE                      0\n",
       "NACIONALIDADE              0\n",
       "NATURALIDADE               0\n",
       "NATUREZAVINCULADA          0\n",
       "NOMEPESSOA                 0\n",
       "NUMERO                     0\n",
       "NUMERO_BOLETIM             0\n",
       "NUM_BO                     0\n",
       "PERIDOOCORRENCIA           0\n",
       "PROFISSAO                  0\n",
       "RG                         0\n",
       "RG_UF                      0\n",
       "RUBRICA                    0\n",
       "SEXO                       0\n",
       "SOLUCAO                    0\n",
       "STATUS                     0\n",
       "TIPOPESSOA                 0\n",
       "TIPOVINCULO                0\n",
       "UF                         0\n",
       "VITIMAFATAL                0\n",
       "dtype: int64"
      ]
     },
     "execution_count": 334,
     "metadata": {},
     "output_type": "execute_result"
    }
   ],
   "source": [
    "# Verificando se ainda restam dados nulos\n",
    "\n",
    "data.isna().sum()"
   ]
  },
  {
   "cell_type": "code",
   "execution_count": 335,
   "metadata": {},
   "outputs": [
    {
     "name": "stdout",
     "output_type": "stream",
     "text": [
      "0     False\n",
      "1      True\n",
      "2      True\n",
      "3      True\n",
      "4      True\n",
      "5      True\n",
      "6      True\n",
      "7      True\n",
      "8      True\n",
      "9      True\n",
      "10     True\n",
      "11     True\n",
      "12     True\n",
      "13     True\n",
      "14     True\n",
      "15     True\n",
      "0     False\n",
      "1     False\n",
      "2      True\n",
      "3     False\n",
      "4     False\n",
      "5      True\n",
      "6      True\n",
      "7     False\n",
      "8      True\n",
      "9      True\n",
      "0     False\n",
      "1     False\n",
      "2      True\n",
      "3      True\n",
      "      ...  \n",
      "4      True\n",
      "5     False\n",
      "6      True\n",
      "7     False\n",
      "8     False\n",
      "9      True\n",
      "10     True\n",
      "11    False\n",
      "12     True\n",
      "13     True\n",
      "14    False\n",
      "15    False\n",
      "16    False\n",
      "17     True\n",
      "0     False\n",
      "1      True\n",
      "2     False\n",
      "3      True\n",
      "4      True\n",
      "5      True\n",
      "6     False\n",
      "7      True\n",
      "8      True\n",
      "9      True\n",
      "10    False\n",
      "11     True\n",
      "12     True\n",
      "13     True\n",
      "14    False\n",
      "15    False\n",
      "Length: 929, dtype: bool\n"
     ]
    }
   ],
   "source": [
    "# Verificando se há dados faltantes\n",
    "\n",
    "print(data.duplicated(['ANO_BO', 'NUM_BO', 'DELEGACIA_NOME']))"
   ]
  },
  {
   "cell_type": "code",
   "execution_count": 336,
   "metadata": {},
   "outputs": [],
   "source": [
    "# Removendo dados duplicados\n",
    "\n",
    "data.drop_duplicates(['ANO_BO', 'NUM_BO', 'DELEGACIA_NOME'], inplace=True)"
   ]
  },
  {
   "cell_type": "code",
   "execution_count": 337,
   "metadata": {},
   "outputs": [
    {
     "data": {
      "text/plain": [
       "(390, 41)"
      ]
     },
     "execution_count": 337,
     "metadata": {},
     "output_type": "execute_result"
    }
   ],
   "source": [
    "data.shape"
   ]
  },
  {
   "cell_type": "code",
   "execution_count": 338,
   "metadata": {},
   "outputs": [
    {
     "data": {
      "text/plain": [
       "Index(['ANO_BO', 'ANO_FABRICACAO', 'ANO_MODELO', 'BAIRRO', 'BO_AUTORIA',\n",
       "       'BO_EMITIDO', 'BO_INICIADO', 'CIDADE', 'CORCUTIS', 'DATACOMUNICACAO',\n",
       "       'DATAELABORACAO', 'DATANASCIMENTO', 'DATAOCORRENCIA',\n",
       "       'DELEGACIA_CIRCUNSCRICAO', 'DELEGACIA_NOME', 'DESCRICAOLOCAL',\n",
       "       'DESDOBRAMENTO', 'ESPECIE', 'ESTADOCIVIL', 'EXAME', 'FLAGRANTE',\n",
       "       'IDADE', 'NACIONALIDADE', 'NATURALIDADE', 'NATUREZAVINCULADA',\n",
       "       'NOMEPESSOA', 'NUMERO', 'NUMERO_BOLETIM', 'NUM_BO', 'PERIDOOCORRENCIA',\n",
       "       'PROFISSAO', 'RG', 'RG_UF', 'RUBRICA', 'SEXO', 'SOLUCAO', 'STATUS',\n",
       "       'TIPOPESSOA', 'TIPOVINCULO', 'UF', 'VITIMAFATAL'],\n",
       "      dtype='object')"
      ]
     },
     "execution_count": 338,
     "metadata": {},
     "output_type": "execute_result"
    }
   ],
   "source": [
    "data.columns"
   ]
  },
  {
   "cell_type": "markdown",
   "metadata": {},
   "source": [
    "### Dentre os períodos de um dia, podemos constatar que o período da noite é o que ocorre um maior número de casos."
   ]
  },
  {
   "cell_type": "code",
   "execution_count": 346,
   "metadata": {},
   "outputs": [
    {
     "data": {
      "image/png": "[encoded data removed]",
      "text/plain": [
       "<Figure size 720x720 with 1 Axes>"
      ]
     },
     "metadata": {
      "needs_background": "light"
     },
     "output_type": "display_data"
    }
   ],
   "source": [
    "# Plotando um gráfico de barras do período de ocorrência\n",
    "\n",
    "plt.figure(figsize=(10,10))\n",
    "data['PERIDOOCORRENCIA'].value_counts().plot(kind='bar');"
   ]
  },
  {
   "cell_type": "markdown",
   "metadata": {},
   "source": [
    "### Com bases na informações apresentadas, podemos perceber no gráfico que a cidade de São Paulo teve o maior número de BO's, seguido por Campinas e Guarulhos."
   ]
  },
  {
   "cell_type": "code",
   "execution_count": 340,
   "metadata": {},
   "outputs": [
    {
     "data": {
      "image/png": "[encoded data removed]",
      "text/plain": [
       "<Figure size 720x720 with 1 Axes>"
      ]
     },
     "metadata": {},
     "output_type": "display_data"
    }
   ],
   "source": [
    "# Plotando um gráfico de pizza das cidades que mais houveram casos.\n",
    "\n",
    "plt.figure(figsize=(10,10))\n",
    "data['CIDADE'].value_counts()[0:20].plot(kind='pie');"
   ]
  },
  {
   "cell_type": "code",
   "execution_count": 341,
   "metadata": {},
   "outputs": [],
   "source": [
    "# Convertendo os dados de data para o padrão do Pandas\n",
    "\n",
    "data['DATAOCORRENCIA'] = pd.to_datetime(data['DATAOCORRENCIA'], format='%d/%m/%Y')"
   ]
  },
  {
   "cell_type": "code",
   "execution_count": 342,
   "metadata": {},
   "outputs": [
    {
     "data": {
      "text/plain": [
       "0   2016-01-19\n",
       "0   2016-01-31\n",
       "1   2016-02-07\n",
       "3   2016-02-12\n",
       "4   2016-02-15\n",
       "Name: DATAOCORRENCIA, dtype: datetime64[ns]"
      ]
     },
     "execution_count": 342,
     "metadata": {},
     "output_type": "execute_result"
    }
   ],
   "source": [
    "data['DATAOCORRENCIA'].head()"
   ]
  },
  {
   "cell_type": "code",
   "execution_count": 343,
   "metadata": {},
   "outputs": [],
   "source": [
    "# Função para contar os dias que mais houveram BO's por Feminicídio.\n",
    "\n",
    "DiaDaSemana = ['Segunda', 'Terca', 'Quarta', 'Quinta', 'Sexta', 'Sabado', 'Domingo']\n",
    "DS = lambda x: DiaDaSemana[x.dayofweek]\n",
    "data['DIASEMANA'] = data['DATAOCORRENCIA'].apply(DS)"
   ]
  },
  {
   "cell_type": "code",
   "execution_count": 344,
   "metadata": {},
   "outputs": [
    {
     "data": {
      "text/plain": [
       "0      Terca\n",
       "0    Domingo\n",
       "1    Domingo\n",
       "3      Sexta\n",
       "4    Segunda\n",
       "Name: DIASEMANA, dtype: object"
      ]
     },
     "execution_count": 344,
     "metadata": {},
     "output_type": "execute_result"
    }
   ],
   "source": [
    "data['DIASEMANA'].head()"
   ]
  },
  {
   "cell_type": "markdown",
   "metadata": {},
   "source": [
    "### Gráfico da distribuição de dados com relação ao dia da semana em que mais houve BO's por feminicídio. Como podemos ver, os dias em que tivemos mais casos nos últimos 18 meses foram Sábado e Domingo."
   ]
  },
  {
   "cell_type": "code",
   "execution_count": 345,
   "metadata": {},
   "outputs": [
    {
     "data": {
      "image/png": "[encoded data removed]",
      "text/plain": [
       "<Figure size 720x720 with 1 Axes>"
      ]
     },
     "metadata": {
      "needs_background": "light"
     },
     "output_type": "display_data"
    }
   ],
   "source": [
    "plt.figure(figsize=(10,10))\n",
    "data['DIASEMANA'].value_counts().plot(kind='bar')\n",
    "plt.title('Distribuição do número de BOs por dia da semana');"
   ]
  },
  {
   "cell_type": "code",
   "execution_count": 347,
   "metadata": {},
   "outputs": [],
   "source": [
    "data['MESANO'] = data['DATAOCORRENCIA'].dt.month"
   ]
  },
  {
   "cell_type": "markdown",
   "metadata": {},
   "source": [
    "### Como podemos ver, o mês de Maio apresentar um maior número de BOs"
   ]
  },
  {
   "cell_type": "code",
   "execution_count": 348,
   "metadata": {},
   "outputs": [
    {
     "data": {
      "image/png": "[encoded data removed]",
      "text/plain": [
       "<Figure size 720x720 with 1 Axes>"
      ]
     },
     "metadata": {
      "needs_background": "light"
     },
     "output_type": "display_data"
    }
   ],
   "source": [
    "plt.figure(figsize=(10,10))\n",
    "data['MESANO'].value_counts().plot(kind='bar')\n",
    "plt.title('Distribuição do número de BOs por mês');"
   ]
  },
  {
   "cell_type": "code",
   "execution_count": 360,
   "metadata": {},
   "outputs": [],
   "source": [
    "data_19 = data[data['ANO_BO'] == 2019]\n",
    "data_18 = data[data['ANO_BO'] == 2018]\n",
    "data_17 = data[data['ANO_BO'] == 2017]\n",
    "data_16 = data[data['ANO_BO'] == 2016]"
   ]
  },
  {
   "cell_type": "code",
   "execution_count": 361,
   "metadata": {},
   "outputs": [
    {
     "data": {
      "image/png": "[encoded data removed]",
      "text/plain": [
       "<Figure size 720x720 with 1 Axes>"
      ]
     },
     "metadata": {
      "needs_background": "light"
     },
     "output_type": "display_data"
    }
   ],
   "source": [
    "plt.figure(figsize=(10,10))\n",
    "plt.scatter(data_16['MESANO'], data_16['NUM_BO'])\n",
    "plt.xlabel('Meses do ano')\n",
    "plt.ylabel('Número de BOs')\n",
    "plt.title('Evolução do número de BOs durante o ano de 2016');"
   ]
  },
  {
   "cell_type": "code",
   "execution_count": 362,
   "metadata": {},
   "outputs": [
    {
     "data": {
      "image/png": "[encoded data removed]",
      "text/plain": [
       "<Figure size 720x720 with 1 Axes>"
      ]
     },
     "metadata": {
      "needs_background": "light"
     },
     "output_type": "display_data"
    }
   ],
   "source": [
    "plt.figure(figsize=(10,10))\n",
    "plt.scatter(data_17['MESANO'], data_17['NUM_BO'])\n",
    "plt.xlabel('Meses do ano')\n",
    "plt.ylabel('Número de BOs')\n",
    "plt.title('Evolução do número de BOs durante o ano de 2017');"
   ]
  },
  {
   "cell_type": "code",
   "execution_count": 363,
   "metadata": {},
   "outputs": [
    {
     "data": {
      "image/png": "[encoded data removed]",
      "text/plain": [
       "<Figure size 720x720 with 1 Axes>"
      ]
     },
     "metadata": {
      "needs_background": "light"
     },
     "output_type": "display_data"
    }
   ],
   "source": [
    "plt.figure(figsize=(10,10))\n",
    "plt.scatter(data_18['MESANO'], data_18['NUM_BO'])\n",
    "plt.xlabel('Meses do ano')\n",
    "plt.ylabel('Número de BOs')\n",
    "plt.title('Evolução do número de BOs durante o ano de 2018');"
   ]
  },
  {
   "cell_type": "code",
   "execution_count": 364,
   "metadata": {},
   "outputs": [
    {
     "data": {
      "image/png": "[encoded data removed]",
      "text/plain": [
       "<Figure size 720x720 with 1 Axes>"
      ]
     },
     "metadata": {
      "needs_background": "light"
     },
     "output_type": "display_data"
    }
   ],
   "source": [
    "plt.figure(figsize=(10,10))\n",
    "plt.scatter(data_19['MESANO'], data_19['NUM_BO'])\n",
    "plt.xlabel('Meses do ano')\n",
    "plt.ylabel('Número de BOs')\n",
    "plt.title('Evolução do número de BOs durante o ano de 2019');"
   ]
  },
  {
   "cell_type": "code",
   "execution_count": 365,
   "metadata": {},
   "outputs": [
    {
     "data": {
      "text/html": [
       "<div>\n",
       "<style scoped>\n",
       "    .dataframe tbody tr th:only-of-type {\n",
       "        vertical-align: middle;\n",
       "    }\n",
       "\n",
       "    .dataframe tbody tr th {\n",
       "        vertical-align: top;\n",
       "    }\n",
       "\n",
       "    .dataframe thead th {\n",
       "        text-align: right;\n",
       "    }\n",
       "</style>\n",
       "<table border=\"1\" class=\"dataframe\">\n",
       "  <thead>\n",
       "    <tr style=\"text-align: right;\">\n",
       "      <th></th>\n",
       "      <th>ANO_BO</th>\n",
       "      <th>ANO_FABRICACAO</th>\n",
       "      <th>ANO_MODELO</th>\n",
       "      <th>BAIRRO</th>\n",
       "      <th>BO_AUTORIA</th>\n",
       "      <th>BO_EMITIDO</th>\n",
       "      <th>BO_INICIADO</th>\n",
       "      <th>CIDADE</th>\n",
       "      <th>CORCUTIS</th>\n",
       "      <th>DATACOMUNICACAO</th>\n",
       "      <th>...</th>\n",
       "      <th>RUBRICA</th>\n",
       "      <th>SEXO</th>\n",
       "      <th>SOLUCAO</th>\n",
       "      <th>STATUS</th>\n",
       "      <th>TIPOPESSOA</th>\n",
       "      <th>TIPOVINCULO</th>\n",
       "      <th>UF</th>\n",
       "      <th>VITIMAFATAL</th>\n",
       "      <th>DIASEMANA</th>\n",
       "      <th>MESANO</th>\n",
       "    </tr>\n",
       "  </thead>\n",
       "  <tbody>\n",
       "    <tr>\n",
       "      <th>0</th>\n",
       "      <td>2016.0</td>\n",
       "      <td>0.0</td>\n",
       "      <td>0.0</td>\n",
       "      <td>JD MARILU</td>\n",
       "      <td>Conhecida</td>\n",
       "      <td>19/01/2016 16:41:39</td>\n",
       "      <td>19/01/2016 10:39:24</td>\n",
       "      <td>BAURU</td>\n",
       "      <td>Parda</td>\n",
       "      <td>19/01/2016</td>\n",
       "      <td>...</td>\n",
       "      <td>Violência Doméstica</td>\n",
       "      <td>Feminino</td>\n",
       "      <td>BO PARA FLAGRANTE</td>\n",
       "      <td>Consumado</td>\n",
       "      <td>Vítima</td>\n",
       "      <td>Vítima</td>\n",
       "      <td>SP</td>\n",
       "      <td>Sim</td>\n",
       "      <td>Terca</td>\n",
       "      <td>1</td>\n",
       "    </tr>\n",
       "    <tr>\n",
       "      <th>0</th>\n",
       "      <td>2016.0</td>\n",
       "      <td>0.0</td>\n",
       "      <td>0.0</td>\n",
       "      <td>GRAJAU</td>\n",
       "      <td>Desconhecida</td>\n",
       "      <td>01/02/2016 06:00:47</td>\n",
       "      <td>01/02/2016 02:48:31</td>\n",
       "      <td>S.PAULO</td>\n",
       "      <td>Parda</td>\n",
       "      <td>01/02/2016</td>\n",
       "      <td>...</td>\n",
       "      <td>Homicídio qualificado (art. 121, §2o.)</td>\n",
       "      <td>Feminino</td>\n",
       "      <td>BO PARA INQUÉRITO</td>\n",
       "      <td>Consumado</td>\n",
       "      <td>Vítima</td>\n",
       "      <td>Vítima</td>\n",
       "      <td>SP</td>\n",
       "      <td>Sim</td>\n",
       "      <td>Domingo</td>\n",
       "      <td>1</td>\n",
       "    </tr>\n",
       "    <tr>\n",
       "      <th>1</th>\n",
       "      <td>2016.0</td>\n",
       "      <td>0.0</td>\n",
       "      <td>0.0</td>\n",
       "      <td>VILA MEDEIROS</td>\n",
       "      <td>Conhecida</td>\n",
       "      <td>07/02/2016 12:35:42</td>\n",
       "      <td>07/02/2016 08:21:21</td>\n",
       "      <td>S.PAULO</td>\n",
       "      <td>Branca</td>\n",
       "      <td>07/02/2016</td>\n",
       "      <td>...</td>\n",
       "      <td>Violência Doméstica</td>\n",
       "      <td>Feminino</td>\n",
       "      <td>BO PARA FLAGRANTE</td>\n",
       "      <td>Consumado</td>\n",
       "      <td>Vítima</td>\n",
       "      <td>Vítima</td>\n",
       "      <td>SP</td>\n",
       "      <td>Sim</td>\n",
       "      <td>Domingo</td>\n",
       "      <td>2</td>\n",
       "    </tr>\n",
       "    <tr>\n",
       "      <th>3</th>\n",
       "      <td>2016.0</td>\n",
       "      <td>0.0</td>\n",
       "      <td>0.0</td>\n",
       "      <td>JARDIM CAPIVARI</td>\n",
       "      <td>Desconhecida</td>\n",
       "      <td>12/02/2016 13:35:50</td>\n",
       "      <td>12/02/2016 13:18:48</td>\n",
       "      <td>CAMPINAS</td>\n",
       "      <td>Parda</td>\n",
       "      <td>12/02/2016</td>\n",
       "      <td>...</td>\n",
       "      <td>Homicídio qualificado (art. 121, §2o.)</td>\n",
       "      <td>Feminino</td>\n",
       "      <td>ENCAMINHAMENTO DP ÁREA DO FATO</td>\n",
       "      <td>Consumado</td>\n",
       "      <td>Vítima</td>\n",
       "      <td>Vítima</td>\n",
       "      <td>SP</td>\n",
       "      <td>Sim</td>\n",
       "      <td>Sexta</td>\n",
       "      <td>2</td>\n",
       "    </tr>\n",
       "    <tr>\n",
       "      <th>4</th>\n",
       "      <td>2016.0</td>\n",
       "      <td>0.0</td>\n",
       "      <td>0.0</td>\n",
       "      <td>VILA SANTA RITA</td>\n",
       "      <td>Conhecida</td>\n",
       "      <td>15/02/2016 04:41:14</td>\n",
       "      <td>15/02/2016 02:34:24</td>\n",
       "      <td>CONCHAS</td>\n",
       "      <td>Parda</td>\n",
       "      <td>15/02/2016</td>\n",
       "      <td>...</td>\n",
       "      <td>Violência Doméstica</td>\n",
       "      <td>Feminino</td>\n",
       "      <td>BO PARA INQUÉRITO</td>\n",
       "      <td>Consumado</td>\n",
       "      <td>Vítima</td>\n",
       "      <td>Vítima</td>\n",
       "      <td>SP</td>\n",
       "      <td>Sim</td>\n",
       "      <td>Segunda</td>\n",
       "      <td>2</td>\n",
       "    </tr>\n",
       "  </tbody>\n",
       "</table>\n",
       "<p>5 rows × 43 columns</p>\n",
       "</div>"
      ],
      "text/plain": [
       "   ANO_BO  ANO_FABRICACAO  ANO_MODELO           BAIRRO    BO_AUTORIA  \\\n",
       "0  2016.0             0.0         0.0        JD MARILU     Conhecida   \n",
       "0  2016.0             0.0         0.0           GRAJAU  Desconhecida   \n",
       "1  2016.0             0.0         0.0    VILA MEDEIROS     Conhecida   \n",
       "3  2016.0             0.0         0.0  JARDIM CAPIVARI  Desconhecida   \n",
       "4  2016.0             0.0         0.0  VILA SANTA RITA     Conhecida   \n",
       "\n",
       "            BO_EMITIDO          BO_INICIADO    CIDADE CORCUTIS  \\\n",
       "0  19/01/2016 16:41:39  19/01/2016 10:39:24     BAURU    Parda   \n",
       "0  01/02/2016 06:00:47  01/02/2016 02:48:31   S.PAULO    Parda   \n",
       "1  07/02/2016 12:35:42  07/02/2016 08:21:21   S.PAULO   Branca   \n",
       "3  12/02/2016 13:35:50  12/02/2016 13:18:48  CAMPINAS    Parda   \n",
       "4  15/02/2016 04:41:14  15/02/2016 02:34:24   CONCHAS    Parda   \n",
       "\n",
       "  DATACOMUNICACAO  ...                                 RUBRICA      SEXO  \\\n",
       "0      19/01/2016  ...                     Violência Doméstica  Feminino   \n",
       "0      01/02/2016  ...  Homicídio qualificado (art. 121, §2o.)  Feminino   \n",
       "1      07/02/2016  ...                     Violência Doméstica  Feminino   \n",
       "3      12/02/2016  ...  Homicídio qualificado (art. 121, §2o.)  Feminino   \n",
       "4      15/02/2016  ...                     Violência Doméstica  Feminino   \n",
       "\n",
       "                          SOLUCAO     STATUS TIPOPESSOA TIPOVINCULO  UF  \\\n",
       "0               BO PARA FLAGRANTE  Consumado     Vítima      Vítima  SP   \n",
       "0               BO PARA INQUÉRITO  Consumado     Vítima      Vítima  SP   \n",
       "1               BO PARA FLAGRANTE  Consumado     Vítima      Vítima  SP   \n",
       "3  ENCAMINHAMENTO DP ÁREA DO FATO  Consumado     Vítima      Vítima  SP   \n",
       "4               BO PARA INQUÉRITO  Consumado     Vítima      Vítima  SP   \n",
       "\n",
       "  VITIMAFATAL DIASEMANA MESANO  \n",
       "0         Sim     Terca      1  \n",
       "0         Sim   Domingo      1  \n",
       "1         Sim   Domingo      2  \n",
       "3         Sim     Sexta      2  \n",
       "4         Sim   Segunda      2  \n",
       "\n",
       "[5 rows x 43 columns]"
      ]
     },
     "execution_count": 365,
     "metadata": {},
     "output_type": "execute_result"
    }
   ],
   "source": [
    "data.head()"
   ]
  },
  {
   "cell_type": "code",
   "execution_count": 367,
   "metadata": {},
   "outputs": [
    {
     "data": {
      "text/plain": [
       "Index(['ANO_BO', 'ANO_FABRICACAO', 'ANO_MODELO', 'BAIRRO', 'BO_AUTORIA',\n",
       "       'BO_EMITIDO', 'BO_INICIADO', 'CIDADE', 'CORCUTIS', 'DATACOMUNICACAO',\n",
       "       'DATAELABORACAO', 'DATANASCIMENTO', 'DATAOCORRENCIA',\n",
       "       'DELEGACIA_CIRCUNSCRICAO', 'DELEGACIA_NOME', 'DESCRICAOLOCAL',\n",
       "       'DESDOBRAMENTO', 'ESPECIE', 'ESTADOCIVIL', 'EXAME', 'FLAGRANTE',\n",
       "       'IDADE', 'NACIONALIDADE', 'NATURALIDADE', 'NATUREZAVINCULADA',\n",
       "       'NOMEPESSOA', 'NUMERO', 'NUMERO_BOLETIM', 'NUM_BO', 'PERIDOOCORRENCIA',\n",
       "       'PROFISSAO', 'RG', 'RG_UF', 'RUBRICA', 'SEXO', 'SOLUCAO', 'STATUS',\n",
       "       'TIPOPESSOA', 'TIPOVINCULO', 'UF', 'VITIMAFATAL', 'DIASEMANA',\n",
       "       'MESANO'],\n",
       "      dtype='object')"
      ]
     },
     "execution_count": 367,
     "metadata": {},
     "output_type": "execute_result"
    }
   ],
   "source": [
    "data.columns"
   ]
  },
  {
   "cell_type": "code",
   "execution_count": 368,
   "metadata": {},
   "outputs": [],
   "source": [
    "data['QTD_BO'] = data['NUM_BO']"
   ]
  },
  {
   "cell_type": "code",
   "execution_count": 369,
   "metadata": {},
   "outputs": [],
   "source": [
    "data.drop(['NUM_BO'], axis=1, inplace=True)"
   ]
  },
  {
   "cell_type": "code",
   "execution_count": 383,
   "metadata": {},
   "outputs": [
    {
     "name": "stdout",
     "output_type": "stream",
     "text": [
      "<class 'pandas.core.frame.DataFrame'>\n",
      "Int64Index: 390 entries, 0 to 15\n",
      "Data columns (total 43 columns):\n",
      "ANO_BO                     390 non-null float64\n",
      "ANO_FABRICACAO             390 non-null float64\n",
      "ANO_MODELO                 390 non-null float64\n",
      "BAIRRO                     390 non-null object\n",
      "BO_AUTORIA                 390 non-null object\n",
      "BO_EMITIDO                 390 non-null object\n",
      "BO_INICIADO                390 non-null object\n",
      "CIDADE                     390 non-null object\n",
      "CORCUTIS                   390 non-null object\n",
      "DATACOMUNICACAO            390 non-null object\n",
      "DATAELABORACAO             390 non-null object\n",
      "DATANASCIMENTO             390 non-null object\n",
      "DATAOCORRENCIA             390 non-null datetime64[ns]\n",
      "DELEGACIA_CIRCUNSCRICAO    390 non-null object\n",
      "DELEGACIA_NOME             390 non-null object\n",
      "DESCRICAOLOCAL             390 non-null object\n",
      "DESDOBRAMENTO              390 non-null object\n",
      "ESPECIE                    390 non-null object\n",
      "ESTADOCIVIL                390 non-null object\n",
      "EXAME                      390 non-null object\n",
      "FLAGRANTE                  390 non-null object\n",
      "IDADE                      390 non-null float64\n",
      "NACIONALIDADE              390 non-null object\n",
      "NATURALIDADE               390 non-null object\n",
      "NATUREZAVINCULADA          390 non-null object\n",
      "NOMEPESSOA                 390 non-null object\n",
      "NUMERO                     390 non-null float64\n",
      "NUMERO_BOLETIM             390 non-null object\n",
      "PERIDOOCORRENCIA           390 non-null object\n",
      "PROFISSAO                  390 non-null object\n",
      "RG                         390 non-null float64\n",
      "RG_UF                      390 non-null object\n",
      "RUBRICA                    390 non-null object\n",
      "SEXO                       390 non-null object\n",
      "SOLUCAO                    390 non-null object\n",
      "STATUS                     390 non-null object\n",
      "TIPOPESSOA                 390 non-null object\n",
      "TIPOVINCULO                390 non-null object\n",
      "UF                         390 non-null object\n",
      "VITIMAFATAL                390 non-null object\n",
      "DIASEMANA                  390 non-null object\n",
      "MESANO                     390 non-null int64\n",
      "QTD_BO                     390 non-null float64\n",
      "dtypes: datetime64[ns](1), float64(7), int64(1), object(34)\n",
      "memory usage: 134.1+ KB\n"
     ]
    }
   ],
   "source": [
    "data.info()"
   ]
  },
  {
   "cell_type": "code",
   "execution_count": 390,
   "metadata": {},
   "outputs": [],
   "source": [
    "X1 = data['ANO_BO']\n",
    "X2 = data['IDADE']\n",
    "X3 = data['MESANO']\n",
    "X = pd.concat([X1, X2, X3], axis=1)\n",
    "y = data.iloc[:, -1]"
   ]
  },
  {
   "cell_type": "code",
   "execution_count": 391,
   "metadata": {},
   "outputs": [],
   "source": [
    "from sklearn.model_selection import train_test_split\n",
    "from sklearn.tree import DecisionTreeRegressor"
   ]
  },
  {
   "cell_type": "code",
   "execution_count": 392,
   "metadata": {},
   "outputs": [],
   "source": [
    "X_train, X_test, y_train, y_test = train_test_split(X, y, test_size=0.2, random_state=42)"
   ]
  },
  {
   "cell_type": "code",
   "execution_count": 397,
   "metadata": {},
   "outputs": [
    {
     "data": {
      "text/plain": [
       "(78, 3)"
      ]
     },
     "execution_count": 397,
     "metadata": {},
     "output_type": "execute_result"
    }
   ],
   "source": [
    "X_test.shape"
   ]
  },
  {
   "cell_type": "code",
   "execution_count": 393,
   "metadata": {},
   "outputs": [],
   "source": [
    "model = DecisionTreeRegressor()"
   ]
  },
  {
   "cell_type": "code",
   "execution_count": 394,
   "metadata": {},
   "outputs": [
    {
     "data": {
      "text/plain": [
       "DecisionTreeRegressor(criterion='mse', max_depth=None, max_features=None,\n",
       "                      max_leaf_nodes=None, min_impurity_decrease=0.0,\n",
       "                      min_impurity_split=None, min_samples_leaf=1,\n",
       "                      min_samples_split=2, min_weight_fraction_leaf=0.0,\n",
       "                      presort=False, random_state=None, splitter='best')"
      ]
     },
     "execution_count": 394,
     "metadata": {},
     "output_type": "execute_result"
    }
   ],
   "source": [
    "model.fit(X_train, y_train)"
   ]
  },
  {
   "cell_type": "code",
   "execution_count": 395,
   "metadata": {},
   "outputs": [],
   "source": [
    "y_pred = model.predict(X_test)"
   ]
  },
  {
   "cell_type": "code",
   "execution_count": 398,
   "metadata": {},
   "outputs": [],
   "source": [
    "new_data = [[2019, 25, 8], [2019, 30, 9], [2019, 35, 10], [2019, 28, 11], [2019, 33, 12]]\n",
    "new_data = pd.DataFrame(new_data, columns=['ANO_BO', 'IDADE', 'MESANO'])"
   ]
  },
  {
   "cell_type": "code",
   "execution_count": 399,
   "metadata": {},
   "outputs": [],
   "source": [
    "y_pred_ = model.predict(new_data)"
   ]
  },
  {
   "cell_type": "code",
   "execution_count": 400,
   "metadata": {},
   "outputs": [
    {
     "data": {
      "text/plain": [
       "array([9606.,  675., 4382.,   31.,   31.])"
      ]
     },
     "execution_count": 400,
     "metadata": {},
     "output_type": "execute_result"
    }
   ],
   "source": [
    "y_pred_"
   ]
  },
  {
   "cell_type": "code",
   "execution_count": 404,
   "metadata": {},
   "outputs": [
    {
     "data": {
      "text/plain": [
       "Text(0, 0.5, 'Número de BOs')"
      ]
     },
     "execution_count": 404,
     "metadata": {},
     "output_type": "execute_result"
    },
    {
     "data": {
      "image/png": "[encoded data removed]",
      "text/plain": [
       "<Figure size 360x360 with 1 Axes>"
      ]
     },
     "metadata": {
      "needs_background": "light"
     },
     "output_type": "display_data"
    }
   ],
   "source": [
    "plt.figure(figsize=(5,5))\n",
    "plt.scatter(new_data['MESANO'], y_pred_)\n",
    "plt.title('Predição para o final do ano de 2019')\n",
    "plt.xlabel('Meses do ano')\n",
    "plt.ylabel('Número de BOs')"
   ]
  },
  {
   "cell_type": "code",
   "execution_count": null,
   "metadata": {},
   "outputs": [],
   "source": []
  }
 ],
 "metadata": {
  "kernelspec": {
   "display_name": "Python 3",
   "language": "python",
   "name": "python3"
  },
  "language_info": {
   "codemirror_mode": {
    "name": "ipython",
    "version": 3
   },
   "file_extension": ".py",
   "mimetype": "text/x-python",
   "name": "python",
   "nbconvert_exporter": "python",
   "pygments_lexer": "ipython3",
   "version": "3.7.3"
  }
 },
 "nbformat": 4,
 "nbformat_minor": 2
}
