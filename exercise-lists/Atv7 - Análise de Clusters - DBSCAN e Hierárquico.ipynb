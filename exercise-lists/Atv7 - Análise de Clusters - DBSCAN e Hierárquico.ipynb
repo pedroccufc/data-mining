{
 "cells": [
  {
   "cell_type": "markdown",
   "metadata": {},
   "source": [
    "### DBSCAN\n",
    "- Clusterização Espacial Baseada em Densidade de Aplicações com Ruído. A ideia chave do método é que, para cada ponto de um cluster, a vizinhança para um dado raio contém, no mínimo, certo número de pontos, ou seja, a densidade na vizinhança tem que exceder um limiar. Para entender o método é necessário conhecer algumas definições. \n",
    "\n",
    "### Clusterização Hierárquica\n",
    "- O clustering hierárquico, como o nome sugere, é um algorítmo que constrói a hierarquia de clusters. Esse algoritmo começa com todos os pontos de dados atribuídos a um cluster próprio. Em seguida, os dois clusters mais próximo são mesclados no mesmo cluster. No final, esse algoritmo termina quando há apenas um único cluster.\n",
    "    - https://portaldatascience.com/introducao-a-clusterizacao-e-os-diferentes-metodos/"
   ]
  },
  {
   "cell_type": "code",
   "execution_count": 41,
   "metadata": {},
   "outputs": [],
   "source": [
    "import pandas as pd\n",
    "import numpy as np\n",
    "import matplotlib.pyplot as plt\n",
    "\n",
    "from sklearn.metrics.pairwise import haversine_distances\n",
    "from scipy.cluster.hierarchy import linkage\n",
    "from scipy.cluster.hierarchy import dendrogram\n",
    "\n",
    "from sklearn.cluster import DBSCAN\n",
    "from sklearn.cluster import hierarchical\n",
    "\n",
    "from sklearn.cluster.hierarchical import pairwise_distances\n",
    "from sklearn.cluster.hierarchical import AgglomerativeClustering"
   ]
  },
  {
   "cell_type": "code",
   "execution_count": 3,
   "metadata": {},
   "outputs": [],
   "source": [
    "data = pd.read_csv('Cluster-Crime-Maio.gzip', compression='gzip', na_values='nulo')"
   ]
  },
  {
   "cell_type": "code",
   "execution_count": 4,
   "metadata": {},
   "outputs": [
    {
     "data": {
      "text/html": [
       "<div>\n",
       "<style scoped>\n",
       "    .dataframe tbody tr th:only-of-type {\n",
       "        vertical-align: middle;\n",
       "    }\n",
       "\n",
       "    .dataframe tbody tr th {\n",
       "        vertical-align: top;\n",
       "    }\n",
       "\n",
       "    .dataframe thead th {\n",
       "        text-align: right;\n",
       "    }\n",
       "</style>\n",
       "<table border=\"1\" class=\"dataframe\">\n",
       "  <thead>\n",
       "    <tr style=\"text-align: right;\">\n",
       "      <th></th>\n",
       "      <th>ID</th>\n",
       "      <th>FONTE</th>\n",
       "      <th>FLAGRANTE</th>\n",
       "      <th>NATUREZA DA OCORRÊNCIA</th>\n",
       "      <th>HISTÓRICO DA OCORRÊNCIA</th>\n",
       "      <th>LOCAL:</th>\n",
       "      <th>BAIRRO</th>\n",
       "      <th>SUSPEITO:</th>\n",
       "      <th>VEÍCULO:</th>\n",
       "      <th>VÍTIMA:</th>\n",
       "      <th>...</th>\n",
       "      <th>ARMA APREENDIDA:</th>\n",
       "      <th>MATERIAL APREENDIDO:</th>\n",
       "      <th>PLACA:</th>\n",
       "      <th>VÍTIMAS LESIONADAS:</th>\n",
       "      <th>SUSPEITOS:</th>\n",
       "      <th>HORA</th>\n",
       "      <th>MINUTO</th>\n",
       "      <th>DATA</th>\n",
       "      <th>LATITUDE</th>\n",
       "      <th>LONGITUDE</th>\n",
       "    </tr>\n",
       "  </thead>\n",
       "  <tbody>\n",
       "    <tr>\n",
       "      <th>0</th>\n",
       "      <td>1</td>\n",
       "      <td>CIOPS</td>\n",
       "      <td>NÃO</td>\n",
       "      <td>MORTE - A BALA</td>\n",
       "      <td>LOCAL: RUA CODO, JANGURUSSU. VÍTIMA: TIAGO S.P...</td>\n",
       "      <td>RUA CODO, JANGURUSSU</td>\n",
       "      <td>JANGURUSSU</td>\n",
       "      <td>NaN</td>\n",
       "      <td>NaN</td>\n",
       "      <td>TIAGO S</td>\n",
       "      <td>...</td>\n",
       "      <td>NaN</td>\n",
       "      <td>NaN</td>\n",
       "      <td>NaN</td>\n",
       "      <td>NaN</td>\n",
       "      <td>NÃO IDENTIFICADOS</td>\n",
       "      <td>10</td>\n",
       "      <td>37</td>\n",
       "      <td>01/05/17</td>\n",
       "      <td>-3.850046</td>\n",
       "      <td>-38.522390</td>\n",
       "    </tr>\n",
       "    <tr>\n",
       "      <th>1</th>\n",
       "      <td>2</td>\n",
       "      <td>CIOPS</td>\n",
       "      <td>NÃO</td>\n",
       "      <td>MORTE A BALA</td>\n",
       "      <td>LOCAL: AV. LESTE OESTE, PIRAMBU. VÍTIMA: RAFAE...</td>\n",
       "      <td>AV. LESTE OESTE, PIRAMBU</td>\n",
       "      <td>PIRAMBU</td>\n",
       "      <td>NaN</td>\n",
       "      <td>NaN</td>\n",
       "      <td>RAFAEL RS</td>\n",
       "      <td>...</td>\n",
       "      <td>NaN</td>\n",
       "      <td>NaN</td>\n",
       "      <td>NaN</td>\n",
       "      <td>NaN</td>\n",
       "      <td>NÃO IDENTIFICADOS</td>\n",
       "      <td>11</td>\n",
       "      <td>50</td>\n",
       "      <td>01/05/17</td>\n",
       "      <td>-3.712388</td>\n",
       "      <td>-38.553322</td>\n",
       "    </tr>\n",
       "    <tr>\n",
       "      <th>2</th>\n",
       "      <td>3</td>\n",
       "      <td>CIOPS</td>\n",
       "      <td>NÃO</td>\n",
       "      <td>MORTE A BALA</td>\n",
       "      <td>LOCAL: RUA TAILANDIA, GENIBAÚ. VÍTIMA: ISRAEL ...</td>\n",
       "      <td>RUA TAILANDIA, GENIBAU</td>\n",
       "      <td>GENIBAU</td>\n",
       "      <td>NaN</td>\n",
       "      <td>NaN</td>\n",
       "      <td>ISRAEL RA</td>\n",
       "      <td>...</td>\n",
       "      <td>NaN</td>\n",
       "      <td>NaN</td>\n",
       "      <td>NaN</td>\n",
       "      <td>NaN</td>\n",
       "      <td>NÃO IDENTIFICADOS</td>\n",
       "      <td>13</td>\n",
       "      <td>53</td>\n",
       "      <td>01/05/17</td>\n",
       "      <td>-3.758621</td>\n",
       "      <td>-38.604318</td>\n",
       "    </tr>\n",
       "    <tr>\n",
       "      <th>3</th>\n",
       "      <td>4</td>\n",
       "      <td>CIOPS</td>\n",
       "      <td>NÃO</td>\n",
       "      <td>MORTE A BALA</td>\n",
       "      <td>LOCAL: RUA DR JOAQUIM FROTA SAPIRANGA COITÉ. V...</td>\n",
       "      <td>RUA DR JOAQUIM FROTA SAPIRANGA COITE</td>\n",
       "      <td>RUA DR JOAQUIM FROTA SAPIRANGA COITE</td>\n",
       "      <td>NaN</td>\n",
       "      <td>NaN</td>\n",
       "      <td>DAVI M</td>\n",
       "      <td>...</td>\n",
       "      <td>NaN</td>\n",
       "      <td>NaN</td>\n",
       "      <td>NaN</td>\n",
       "      <td>NaN</td>\n",
       "      <td>NÃO IDENTIFICADOS</td>\n",
       "      <td>15</td>\n",
       "      <td>14</td>\n",
       "      <td>01/05/17</td>\n",
       "      <td>-3.801281</td>\n",
       "      <td>-38.472957</td>\n",
       "    </tr>\n",
       "    <tr>\n",
       "      <th>4</th>\n",
       "      <td>5</td>\n",
       "      <td>CIOPS</td>\n",
       "      <td>NÃO</td>\n",
       "      <td>MORTE A BALA</td>\n",
       "      <td>LOCAL: RUA CARNAUBAL, ALVARO WEYNE. VÍTIMA: DI...</td>\n",
       "      <td>RUA CARNAUBAL, ALVARO WEYNE</td>\n",
       "      <td>ALVARO WEYNE</td>\n",
       "      <td>NaN</td>\n",
       "      <td>NaN</td>\n",
       "      <td>DIEGO T</td>\n",
       "      <td>...</td>\n",
       "      <td>NaN</td>\n",
       "      <td>NaN</td>\n",
       "      <td>NaN</td>\n",
       "      <td>NaN</td>\n",
       "      <td>NÃO IDENTIFICADOS</td>\n",
       "      <td>17</td>\n",
       "      <td>42</td>\n",
       "      <td>01/05/17</td>\n",
       "      <td>-3.722553</td>\n",
       "      <td>-38.582816</td>\n",
       "    </tr>\n",
       "  </tbody>\n",
       "</table>\n",
       "<p>5 rows × 22 columns</p>\n",
       "</div>"
      ],
      "text/plain": [
       "   ID  FONTE FLAGRANTE NATUREZA DA OCORRÊNCIA  \\\n",
       "0   1  CIOPS       NÃO         MORTE - A BALA   \n",
       "1   2  CIOPS       NÃO           MORTE A BALA   \n",
       "2   3  CIOPS       NÃO           MORTE A BALA   \n",
       "3   4  CIOPS       NÃO           MORTE A BALA   \n",
       "4   5  CIOPS       NÃO           MORTE A BALA   \n",
       "\n",
       "                             HISTÓRICO DA OCORRÊNCIA  \\\n",
       "0  LOCAL: RUA CODO, JANGURUSSU. VÍTIMA: TIAGO S.P...   \n",
       "1  LOCAL: AV. LESTE OESTE, PIRAMBU. VÍTIMA: RAFAE...   \n",
       "2  LOCAL: RUA TAILANDIA, GENIBAÚ. VÍTIMA: ISRAEL ...   \n",
       "3  LOCAL: RUA DR JOAQUIM FROTA SAPIRANGA COITÉ. V...   \n",
       "4  LOCAL: RUA CARNAUBAL, ALVARO WEYNE. VÍTIMA: DI...   \n",
       "\n",
       "                                 LOCAL:                                BAIRRO  \\\n",
       "0                  RUA CODO, JANGURUSSU                            JANGURUSSU   \n",
       "1              AV. LESTE OESTE, PIRAMBU                               PIRAMBU   \n",
       "2                RUA TAILANDIA, GENIBAU                               GENIBAU   \n",
       "3  RUA DR JOAQUIM FROTA SAPIRANGA COITE  RUA DR JOAQUIM FROTA SAPIRANGA COITE   \n",
       "4           RUA CARNAUBAL, ALVARO WEYNE                          ALVARO WEYNE   \n",
       "\n",
       "  SUSPEITO: VEÍCULO:    VÍTIMA:  ... ARMA APREENDIDA: MATERIAL APREENDIDO:  \\\n",
       "0       NaN      NaN    TIAGO S  ...              NaN                  NaN   \n",
       "1       NaN      NaN  RAFAEL RS  ...              NaN                  NaN   \n",
       "2       NaN      NaN  ISRAEL RA  ...              NaN                  NaN   \n",
       "3       NaN      NaN     DAVI M  ...              NaN                  NaN   \n",
       "4       NaN      NaN    DIEGO T  ...              NaN                  NaN   \n",
       "\n",
       "  PLACA: VÍTIMAS LESIONADAS:         SUSPEITOS: HORA MINUTO      DATA  \\\n",
       "0    NaN                 NaN  NÃO IDENTIFICADOS   10     37  01/05/17   \n",
       "1    NaN                 NaN  NÃO IDENTIFICADOS   11     50  01/05/17   \n",
       "2    NaN                 NaN  NÃO IDENTIFICADOS   13     53  01/05/17   \n",
       "3    NaN                 NaN  NÃO IDENTIFICADOS   15     14  01/05/17   \n",
       "4    NaN                 NaN  NÃO IDENTIFICADOS   17     42  01/05/17   \n",
       "\n",
       "   LATITUDE  LONGITUDE  \n",
       "0 -3.850046 -38.522390  \n",
       "1 -3.712388 -38.553322  \n",
       "2 -3.758621 -38.604318  \n",
       "3 -3.801281 -38.472957  \n",
       "4 -3.722553 -38.582816  \n",
       "\n",
       "[5 rows x 22 columns]"
      ]
     },
     "execution_count": 4,
     "metadata": {},
     "output_type": "execute_result"
    }
   ],
   "source": [
    "data.head()"
   ]
  },
  {
   "cell_type": "code",
   "execution_count": 5,
   "metadata": {},
   "outputs": [
    {
     "data": {
      "text/plain": [
       "ID                           0\n",
       "FONTE                        0\n",
       "FLAGRANTE                    0\n",
       "NATUREZA DA OCORRÊNCIA       0\n",
       "HISTÓRICO DA OCORRÊNCIA      0\n",
       "LOCAL:                       0\n",
       "BAIRRO                       0\n",
       "SUSPEITO:                  390\n",
       "VEÍCULO:                   349\n",
       "VÍTIMA:                    424\n",
       "VÍTIMAS:                   558\n",
       "VÍTIMA FATAL:              566\n",
       "ARMA APREENDIDA:           509\n",
       "MATERIAL APREENDIDO:       540\n",
       "PLACA:                     523\n",
       "VÍTIMAS LESIONADAS:        566\n",
       "SUSPEITOS:                 432\n",
       "HORA                         0\n",
       "MINUTO                       0\n",
       "DATA                         0\n",
       "LATITUDE                     0\n",
       "LONGITUDE                    0\n",
       "dtype: int64"
      ]
     },
     "execution_count": 5,
     "metadata": {},
     "output_type": "execute_result"
    }
   ],
   "source": [
    "data.isna().sum()"
   ]
  },
  {
   "cell_type": "code",
   "execution_count": 6,
   "metadata": {},
   "outputs": [
    {
     "data": {
      "text/plain": [
       "(567, 22)"
      ]
     },
     "execution_count": 6,
     "metadata": {},
     "output_type": "execute_result"
    }
   ],
   "source": [
    "data.shape"
   ]
  },
  {
   "cell_type": "code",
   "execution_count": 7,
   "metadata": {},
   "outputs": [
    {
     "data": {
      "text/plain": [
       "Index(['ID', 'FONTE', 'FLAGRANTE', 'NATUREZA DA OCORRÊNCIA',\n",
       "       'HISTÓRICO DA OCORRÊNCIA', 'LOCAL:', 'BAIRRO', 'SUSPEITO:', 'VEÍCULO:',\n",
       "       'VÍTIMA:', 'VÍTIMAS:', 'VÍTIMA FATAL:', 'ARMA APREENDIDA:',\n",
       "       'MATERIAL APREENDIDO:', 'PLACA:', 'VÍTIMAS LESIONADAS:', 'SUSPEITOS:',\n",
       "       'HORA', 'MINUTO', 'DATA', 'LATITUDE', 'LONGITUDE'],\n",
       "      dtype='object')"
      ]
     },
     "execution_count": 7,
     "metadata": {},
     "output_type": "execute_result"
    }
   ],
   "source": [
    "data.columns"
   ]
  },
  {
   "cell_type": "markdown",
   "metadata": {},
   "source": [
    "---\n",
    "Para verificarmos a quantidade de ocorrência para cada tipo, podemos observar no nosso conjunto de dados que temos a coluna <em>NATUREZA DA OCORRÊNCIA</em>, nela estão listadas todas as ocorrência de feminicídio ocorrida na cidade de <strong>Fortaleza</strong>. Para vizualizarmos a quantidade de cada tipo de ocorrência podemos executar o comando abaixo. Após a verificação, podemos perceber que o tipo MORTE A BALA tem uma maior quantidade de ocorrência."
   ]
  },
  {
   "cell_type": "code",
   "execution_count": 18,
   "metadata": {},
   "outputs": [
    {
     "data": {
      "text/plain": [
       "VEICULO LOCALIZADO                                                          222\n",
       "MORTE A BALA                                                                 97\n",
       "PORTE ILEGAL DE ARMA                                                         45\n",
       "TRAFICO DE ENTORPECENTES                                                     25\n",
       "ROUBO A PESSOA                                                               13\n",
       "PESSOA EM SITUACAO SUSPEITA                                                   6\n",
       "VEICULOS LOCALIZADOS                                                          5\n",
       "PORTE ILEGAL DE ARMA  (ATO INFRACIONAL)                                       4\n",
       "MORTE A FACA                                                                  4\n",
       "PORTE ILEGAL DE ARMA (ATO INFRACIONAL)                                        4\n",
       "TRAFICO DE ENTORPECENTES (ATO INFRACIONAL)                                    4\n",
       "CUMPRIMENTO DE MANDADO JUDICIAL                                               4\n",
       "FURTO A RESIDENCIA                                                            3\n",
       "PORTE ILEGAL DE ARMA(ATO INFRACIONAL)                                         3\n",
       "APREENSAO DE ARMA                                                             3\n",
       "TRAFICO DE ENTORPECENTE                                                       3\n",
       "VEICULO LOCALIZADO (ATO INFRACIONAL)                                          3\n",
       "MORTE - A BALA                                                                3\n",
       "VEICULO LOCALIZADO(ATO INFRACIONAL)                                           3\n",
       "ABANDONO DE MATERIAL OU BENS MOVEIS / ARMA APREENDIDA                         2\n",
       "ARMA APREENDIDA                                                               2\n",
       "ROUBO A PESSOA / ARMA APREENDIDA                                              2\n",
       "TRAFICO DE ENTORPECENTES / PORTE ILEGAL DE ARMA                               2\n",
       "AMEACA                                                                        2\n",
       "ATROPELAMENTO NAO FATAL                                                       2\n",
       "MORTE A OUTROS                                                                2\n",
       "FURTO A PESSOA                                                                2\n",
       "TENTATIVA DE FURTO                                                            2\n",
       "TRAFICO DE ENTORPECENTES (AUTO DE APREENSAO)                                  2\n",
       "MORTE A BALA   QUATRO ARMAS APREENDIDA                                        1\n",
       "                                                                           ... \n",
       "ROUBO A PESSOA(AUTO DE APREENSAO)                                             1\n",
       "PORTE ILEGAL DE ARMA / TRAFICO DE ENTORPECENTES                               1\n",
       "ROUBO DE VEICULO / ARMA APREENDIDA                                            1\n",
       "FURTO A PESSOA (ATO INFRACIONAL)                                              1\n",
       "ROUBO - A PESSOA                                                              1\n",
       "FURTO  A PESSOA                                                               1\n",
       "LESAO CORPORAL A FACA                                                         1\n",
       "VEICULO LOCALIZADO  (FLAGRANTE E AUTO DE APREENSAO)                           1\n",
       "ROUBO DE VEICULO(ATO INFRACIONAL)                                             1\n",
       "ROUBO A PESSOA ARMA APREENDIDA                                                1\n",
       "ROUBO A ESTABELECIMENTO (ATO INFRACIONAL)                                     1\n",
       "TRAFICO DE ENTORPECENTES / ARMA APREENDIDA                                    1\n",
       "PORTE ILEGAL DE ARMA / VEICULO LOCALIZADO  (ATO INFRACIONAL / FLAGRANTE)      1\n",
       "PORTE ILEGAL DE ARMA (ATO INFRACIONAL / FLAGRANTE)                            1\n",
       "APREENSAO DE ARMA E ENTORPECENTES                                             1\n",
       "PORTE ILEGAL DE                                                               1\n",
       "VEICULO LOCALIZADO/ RECEPTACAO                                                1\n",
       "ROUBO DE VEICULO                                                              1\n",
       "PORTE ILEGAL DE ARMA (FLAGRANTE / ATO INFRACIONAL)                            1\n",
       "PORTE ILEGAL DE ARMA / APREENSAO DE ENTORPECENTE (ATO INFRACIONAL)            1\n",
       "PORTE ILEGAL DE ARMA (ARMAS APREENDIDAS / FLAGRANTE)                          1\n",
       "TRAFICO DE ENTORPECENTE (ATO INFRACIONAL)                                     1\n",
       "ROUBO DE VEICULO (ARMA APREENDIDA / FLAGRANTE)                                1\n",
       "VEICULO LOCALIZADO / RECEPTACAO                                               1\n",
       "APREENSAO DE ARMA E DROGAS                                                    1\n",
       "ROUBO DE VEICULO /PORTE ILEGAL DE ARMA                                        1\n",
       "PORTE ILEGAL DE ARMA DUAS ARMAS / B.O. / FLAGRANTE                            1\n",
       "ABANDONO DE MATERIAL OU BENS MOVEIS                                           1\n",
       "ROUBO DE VEICULO / ROUBO A PESSOA (ATO INFRACIONAL)                           1\n",
       "MORTE A BALA SEGUIDA DE LESAO CORPORAL A BALA                                 1\n",
       "Name: NATUREZA DA OCORRÊNCIA, Length: 122, dtype: int64"
      ]
     },
     "execution_count": 18,
     "metadata": {},
     "output_type": "execute_result"
    }
   ],
   "source": [
    "data['NATUREZA DA OCORRÊNCIA'].value_counts()"
   ]
  },
  {
   "cell_type": "code",
   "execution_count": 47,
   "metadata": {},
   "outputs": [],
   "source": [
    "X = data[['LATITUDE', 'LONGITUDE']].values"
   ]
  },
  {
   "cell_type": "markdown",
   "metadata": {},
   "source": [
    "---\n",
    "Para visualizarmos de forma melhor, podemos plotar um gráfico usando a LATITUDE e LONGITUDE do local da ocorrência. Para isso usaremos a biblioteca matplotlib, que nos permite a visualização dos dados no espaço."
   ]
  },
  {
   "cell_type": "code",
   "execution_count": 48,
   "metadata": {},
   "outputs": [
    {
     "data": {
      "image/png": "[encoded data removed]",
      "text/plain": [
       "<Figure size 432x288 with 1 Axes>"
      ]
     },
     "metadata": {
      "needs_background": "light"
     },
     "output_type": "display_data"
    }
   ],
   "source": [
    "plt.scatter(data['LATITUDE'], data['LONGITUDE'])\n",
    "plt.grid()\n",
    "plt.show()"
   ]
  },
  {
   "cell_type": "markdown",
   "metadata": {},
   "source": [
    "---\n",
    "Para calcularmos a distância entre os pontos de ocorrência utilizaremos a <em>haversine_distances</em> que calcula a distancia angular entre dois pontos na superfície de uma esfera. A primeira distância de cada ponto é assumida como sendo a LATITUDE, a segunda é a LONGITUDE, dada em radianos. Após feito esse calculo, precisamos multiplicar por 6371 (raio da terra) para obtermos a distância em km."
   ]
  },
  {
   "cell_type": "code",
   "execution_count": 21,
   "metadata": {},
   "outputs": [],
   "source": [
    "result = haversine_distances(data[['LATITUDE', 'LONGITUDE']]) * 6371"
   ]
  },
  {
   "cell_type": "markdown",
   "metadata": {},
   "source": [
    "---\n",
    "Feito o cálculo, temos agora a matriz de distâncias. Utilizaremos agora o método <em>linkage</em> da biblioteca do SciPy, que recebe como entrada uma matriz de distâncias condensada e liga os pontos mais próximos no mesmo cluster. Para este exemplo usaremos o método <em>complete</em> que pega a menor distância da máxima distância entre todos os clusters."
   ]
  },
  {
   "cell_type": "code",
   "execution_count": 32,
   "metadata": {},
   "outputs": [
    {
     "name": "stderr",
     "output_type": "stream",
     "text": [
      "/home/pedim/anaconda3/lib/python3.7/site-packages/ipykernel_launcher.py:1: ClusterWarning: scipy.cluster: The symmetric non-negative hollow observation matrix looks suspiciously like an uncondensed distance matrix\n",
      "  \"\"\"Entry point for launching an IPython kernel.\n"
     ]
    }
   ],
   "source": [
    "hc_complete = linkage(result, method='complete')"
   ]
  },
  {
   "cell_type": "code",
   "execution_count": 39,
   "metadata": {},
   "outputs": [
    {
     "data": {
      "text/html": [
       "<div>\n",
       "<style scoped>\n",
       "    .dataframe tbody tr th:only-of-type {\n",
       "        vertical-align: middle;\n",
       "    }\n",
       "\n",
       "    .dataframe tbody tr th {\n",
       "        vertical-align: top;\n",
       "    }\n",
       "\n",
       "    .dataframe thead th {\n",
       "        text-align: right;\n",
       "    }\n",
       "</style>\n",
       "<table border=\"1\" class=\"dataframe\">\n",
       "  <thead>\n",
       "    <tr style=\"text-align: right;\">\n",
       "      <th></th>\n",
       "      <th>idx1</th>\n",
       "      <th>idx2</th>\n",
       "      <th>dist</th>\n",
       "      <th>sample-count</th>\n",
       "    </tr>\n",
       "  </thead>\n",
       "  <tbody>\n",
       "    <tr>\n",
       "      <th>561</th>\n",
       "      <td>1120.0</td>\n",
       "      <td>1127.0</td>\n",
       "      <td>8762.827353</td>\n",
       "      <td>110.0</td>\n",
       "    </tr>\n",
       "    <tr>\n",
       "      <th>562</th>\n",
       "      <td>1121.0</td>\n",
       "      <td>1124.0</td>\n",
       "      <td>9325.432002</td>\n",
       "      <td>230.0</td>\n",
       "    </tr>\n",
       "    <tr>\n",
       "      <th>563</th>\n",
       "      <td>1126.0</td>\n",
       "      <td>1129.0</td>\n",
       "      <td>11561.561329</td>\n",
       "      <td>456.0</td>\n",
       "    </tr>\n",
       "    <tr>\n",
       "      <th>564</th>\n",
       "      <td>1128.0</td>\n",
       "      <td>1130.0</td>\n",
       "      <td>14797.076835</td>\n",
       "      <td>566.0</td>\n",
       "    </tr>\n",
       "    <tr>\n",
       "      <th>565</th>\n",
       "      <td>505.0</td>\n",
       "      <td>1131.0</td>\n",
       "      <td>40749.993305</td>\n",
       "      <td>567.0</td>\n",
       "    </tr>\n",
       "  </tbody>\n",
       "</table>\n",
       "</div>"
      ],
      "text/plain": [
       "       idx1    idx2          dist  sample-count\n",
       "561  1120.0  1127.0   8762.827353         110.0\n",
       "562  1121.0  1124.0   9325.432002         230.0\n",
       "563  1126.0  1129.0  11561.561329         456.0\n",
       "564  1128.0  1130.0  14797.076835         566.0\n",
       "565   505.0  1131.0  40749.993305         567.0"
      ]
     },
     "execution_count": 39,
     "metadata": {},
     "output_type": "execute_result"
    }
   ],
   "source": [
    "complete = pd.DataFrame(hc_complete, columns=['idx1', 'idx2', 'dist', 'sample-count'])\n",
    "complete.tail()"
   ]
  },
  {
   "cell_type": "markdown",
   "metadata": {},
   "source": [
    "---\n",
    "Para visualizarmos o dendograma dos dados, utilizaremos o método <strong><em>dendogram</em></strong> da biblioteca SciPy. Em um dendograma, começamos com todo ponto sendo seu próprio cluster, em seguida, vamos fazendo a ligação entre todos os pontos usando a distância, até ter apenas um cluster."
   ]
  },
  {
   "cell_type": "code",
   "execution_count": 43,
   "metadata": {},
   "outputs": [
    {
     "data": {
      "image/png": "[encoded data removed]",
      "text/plain": [
       "<Figure size 1080x720 with 1 Axes>"
      ]
     },
     "metadata": {
      "needs_background": "light"
     },
     "output_type": "display_data"
    }
   ],
   "source": [
    "plt.figure(figsize=(15,10))\n",
    "dendrogram(hc_complete)\n",
    "plt.show()"
   ]
  },
  {
   "cell_type": "markdown",
   "metadata": {},
   "source": [
    "Existem outros métodos de ligação de clusters, dentre eles temos:\n",
    "- Single\n",
    "- Ward"
   ]
  },
  {
   "cell_type": "markdown",
   "metadata": {},
   "source": [
    "---\n",
    "Temos também o algoritmo de aglomeração <strong><em>AgglomerativeClustering</em></strong> que faz o mesmo do método anterior."
   ]
  },
  {
   "cell_type": "code",
   "execution_count": 44,
   "metadata": {},
   "outputs": [],
   "source": [
    "agglomerative = AgglomerativeClustering(n_clusters=3)"
   ]
  },
  {
   "cell_type": "code",
   "execution_count": 46,
   "metadata": {},
   "outputs": [
    {
     "name": "stderr",
     "output_type": "stream",
     "text": [
      "/home/pedim/anaconda3/lib/python3.7/site-packages/scipy/cluster/hierarchy.py:878: ClusterWarning: scipy.cluster: The symmetric non-negative hollow observation matrix looks suspiciously like an uncondensed distance matrix\n",
      "  return linkage(y, method='ward', metric='euclidean')\n"
     ]
    }
   ],
   "source": [
    "y_pred = agglomerative.fit_predict(result)"
   ]
  },
  {
   "cell_type": "code",
   "execution_count": 50,
   "metadata": {},
   "outputs": [
    {
     "data": {
      "image/png": "[encoded data removed]",
      "text/plain": [
       "<Figure size 432x288 with 1 Axes>"
      ]
     },
     "metadata": {
      "needs_background": "light"
     },
     "output_type": "display_data"
    }
   ],
   "source": [
    "plt.scatter(X[:, 0], X[:, 1], c=y_pred)\n",
    "plt.grid()"
   ]
  },
  {
   "cell_type": "markdown",
   "metadata": {},
   "source": [
    "# DBSCAN"
   ]
  },
  {
   "cell_type": "markdown",
   "metadata": {},
   "source": [
    "Por fim, usaremos o algoritmo baseado em densidade DBSCAN."
   ]
  },
  {
   "cell_type": "code",
   "execution_count": 62,
   "metadata": {},
   "outputs": [],
   "source": [
    "dbscan = DBSCAN(eps=0.01, min_samples=10, metric='haversine')"
   ]
  },
  {
   "cell_type": "code",
   "execution_count": 63,
   "metadata": {},
   "outputs": [],
   "source": [
    "y_pred = dbscan.fit_predict(X)"
   ]
  },
  {
   "cell_type": "code",
   "execution_count": 65,
   "metadata": {},
   "outputs": [
    {
     "data": {
      "image/png": "[encoded data removed]",
      "text/plain": [
       "<Figure size 432x288 with 1 Axes>"
      ]
     },
     "metadata": {
      "needs_background": "light"
     },
     "output_type": "display_data"
    }
   ],
   "source": [
    "plt.scatter(X[:, 1], X[:, 0], c=y_pred)\n",
    "plt.grid()\n",
    "plt.show()"
   ]
  },
  {
   "cell_type": "code",
   "execution_count": null,
   "metadata": {},
   "outputs": [],
   "source": []
  }
 ],
 "metadata": {
  "kernelspec": {
   "display_name": "Python 3",
   "language": "python",
   "name": "python3"
  },
  "language_info": {
   "codemirror_mode": {
    "name": "ipython",
    "version": 3
   },
   "file_extension": ".py",
   "mimetype": "text/x-python",
   "name": "python",
   "nbconvert_exporter": "python",
   "pygments_lexer": "ipython3",
   "version": "3.7.3"
  }
 },
 "nbformat": 4,
 "nbformat_minor": 2
}
